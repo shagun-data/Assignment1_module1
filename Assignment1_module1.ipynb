{
  "nbformat": 4,
  "nbformat_minor": 0,
  "metadata": {
    "colab": {
      "provenance": []
    },
    "kernelspec": {
      "name": "python3",
      "display_name": "Python 3"
    },
    "language_info": {
      "name": "python"
    }
  },
  "cells": [
    {
      "cell_type": "markdown",
      "source": [
        "Ques1: What is Python, and why is it popular?\n",
        "- Python is a versatile and high-level programming language known for its simplicity, readability, and user-friendly syntax, making it accessible to beginners while being powerful enough for experienced developers.\n",
        "- Python is popular for several reasons:\n",
        "  - Ease of Learning and Use:\n",
        "  - Multi-Paradigm Support\n",
        "  - Extensive Standard Library\n",
        "  - Rich Ecosystem of Third-Party Packages\n",
        "  - Cross-Platform Compatibility\n",
        "  - Large and Active Community\n",
        "\n",
        "Ques2: What is an interpreter in Python?\n",
        "- An interpreter in Python is a program that reads and executes Python code line by line. It takes the source code we write, translates it into machine-readable instructions, and runs it directly, without needing to compile the code beforehand.\n",
        "\n",
        "Ques3: What are pre-defined keywords in Python?\n",
        "- Pre-defined keywords in Python are reserved words that have special meanings and specific purposes in the language.\n",
        "  - Examples of Python keywords include:\n",
        "    - Control flow: if, else, elif, while, for, break, continue\n",
        "    - Function and class definitions: def, class, return,\n",
        "      lambda\n",
        "    - Exception handling: try, except, finally, raise\n",
        "    - Boolean and null values: True, False, None\n",
        "    - Other keywords: import, from, as, global, nonlocal, pass, with\n",
        "\n",
        "Ques4: Can keywords be used as variable names?\n",
        "- No, keywords cannot be used as variables because it will give an error and then we have to restart the kernel.\n",
        "  - eg:\n",
        "      - we cannot write: print = 2 ect.\n",
        "\n",
        "Ques5: What is mutability in Python?\n",
        "- In mutability we can change or replace some elements of lists, as Lists are mutable, so you can change their elements after creation.\n",
        "  - eg:\n",
        "      - fruits = [\"apple\", \"banana\", \"grapes\"]\n",
        "        fruits[2] = \"orange\"  \n",
        "        print(fruits)  \n",
        "        = Output: ['apple', 'banana', 'orange']  \n",
        "\n",
        "Ques6: Why are lists mutable, but tuples are immutable?\n",
        "- Lists are designed to store a sequence of items that may need to be modified frequently.\n",
        "- Once created, the memory location of a tuple's content does not change. Modifications require creating a new tuple.\n",
        "- Why the Difference?\n",
        "  - Performance\n",
        "  - Safety\n",
        "  - Flexibility   \n",
        "        \n",
        "Ques7: What is the difference between “==” and “is” operators in Python?\n",
        "- Key Differences\n",
        "  - == operator, Compares the values of two objects to check if they are equal.\n",
        "    - eg: a=[1,2,3]\n",
        "          b=[1,2,3]\n",
        "          print(a==b)\n",
        "          = output True\n",
        "  - is operator, Compares the identity of two objects to check if they are the same object in memory.\n",
        "    - eg: a=[1,2,3]\n",
        "          b=[1,2,3]\n",
        "          c=a\n",
        "          print(a is b) = False\n",
        "          print(a is c) = True\n",
        "    \n",
        "Ques8: What are logical operators in Python?  \n",
        "- Logical operators in Python are used to combine conditional statements and return a boolean value (True or False) based on their logic.\n",
        "  - eg:\n",
        "      - x = 5\n",
        "      - y = 10\n",
        "      - print(x > 0 and y > 5) = Output: True\n",
        "      - print(x > 0 or y < 5)  = Output: True\n",
        "\n",
        "Ques9: What is type casting in Python?\n",
        "- Type casting, also referred to as type conversion, is the process of changing one data type to another in Python.\n",
        "Python provides built-in functions for type casting, such as int(), float(), str(), list(), tuple(), dict(), etc.\n",
        "\n",
        "Ques10: What is the difference between implicit and explicit type casting?\n",
        "- Implicit Type Casting:\n",
        "  - Also known as type coercion, it happens automatically when Python converts a smaller data type to a larger data type to prevent data loss.\n",
        "\n",
        "- Explicit Type Casting\n",
        "  - Also known as type conversion, it is done manually by the programmer using functions like int(), float(), str(), etc.  \n",
        "\n",
        "Ques11: What is the purpose of conditional statements in Python?\n",
        "- Conditional statements in Python are used to control the flow of execution in a program. They allow the program to make decisions and execute certain blocks of code only when specific conditions are met.\n",
        " - if: Executes a block of code if the condition is\n",
        "       true.\n",
        " - elif: Allows checking multiple conditions after the initial if.\n",
        " - else: Executes a block of code if none of the conditions are true.  \n",
        "\n",
        "Ques12: How does the elif statement work?\n",
        "- elif allows checking multiple conditions after the initial if.\n",
        "  - eg:\n",
        "    - age = 18\n",
        "    - if age < 18:\n",
        "        - print(\"You are a minor.\")\n",
        "    - elif age == 18:\n",
        "      - print(\"You just became an adult!\")\n",
        "    - else:\n",
        "      - print(\"You are an adult.\")\n",
        "\n",
        "Ques13: What is the difference between for and while loops?\n",
        "- Difference Between for and while Loops in Python:\n",
        "Use Case:\n",
        " - for Loop: Used to iterate over a sequence (e.g.,\n",
        "   list, tuple, string, or range).\n",
        " - while Loop: Used to repeat a block of code as long\n",
        "   as a specific condition is true.\n",
        "\n",
        "Structure:\n",
        " - for Loop: Iteration is predefined based on the length of the sequence.\n",
        " - while Loop: Iteration continues until the condition becomes false.\n",
        "\n",
        "Control:\n",
        " - for Loop: Stops automatically when the sequence ends.\n",
        " - while Loop: Requires manual updates to the condition to avoid infinite loops.\n",
        "\n",
        "Ideal Use:\n",
        " - for Loop: Best for situations where the number of iterations is known or when working with sequences.\n",
        " - while Loop: Best for cases where the number of iterations is unknown and depends on a condition.  \n",
        "\n",
        "-> eg:\n",
        "    - for Loop:\n",
        "    - for i in range(5):\n",
        "      - print(i)\n",
        "      = Output: 0, 1, 2, 3, 4    \n",
        "\n",
        "      - while loop:\n",
        "        - x = 0\n",
        "        - while x < 5:\n",
        "        - print(x)\n",
        "        - x += 1\n",
        "        = Output: 0, 1, 2, 3, 4\n",
        "\n",
        "Ques14:Describe a scenario where a while loop is more suitable than a for loop.    '\n",
        "- A condition where while loop is more suitable than a for loop is where the number of iterations is unknown and depends on a condition. So, in these cases while loop is better than for loop.\n",
        " - eg:\n",
        "     - Scenario: User Authentication System\n",
        "       - A system where a user must enter the correct password to log in. The program keeps asking for the password until the user provides the correct one.Here, the exact number of attempts isn’t known in advance, making a while loop the perfect choice.\n",
        "\n",
        "\n"
      ],
      "metadata": {
        "id": "AgMbWLENkAai"
      }
    },
    {
      "cell_type": "markdown",
      "source": [
        "**Practical questions:**"
      ],
      "metadata": {
        "id": "TIPXRsBbDqSu"
      }
    },
    {
      "cell_type": "code",
      "source": [
        "# 1. Write a Python program to print \"Hello, World!\n",
        "print(\"Hello, World!\")"
      ],
      "metadata": {
        "colab": {
          "base_uri": "https://localhost:8080/"
        },
        "id": "XIci_ofCDcox",
        "outputId": "c4f91242-ae91-491b-89b9-abc4b32ca1dc"
      },
      "execution_count": 1,
      "outputs": [
        {
          "output_type": "stream",
          "name": "stdout",
          "text": [
            "Hello, World!\n"
          ]
        }
      ]
    },
    {
      "cell_type": "code",
      "source": [
        "# 2. Write a Python program that displays your name and age\n",
        "name = input(\"Enter your name: \")\n",
        "age = int(input(\"Enter your age: \"))\n",
        "print(f\"My name is {name} and I am {age} years old.\")"
      ],
      "metadata": {
        "colab": {
          "base_uri": "https://localhost:8080/"
        },
        "id": "rve9SO4YD_eq",
        "outputId": "3d36db75-63f2-405d-b8a0-70396b64f55b"
      },
      "execution_count": 2,
      "outputs": [
        {
          "output_type": "stream",
          "name": "stdout",
          "text": [
            "Enter your name: shagun singh\n",
            "Enter your age: 19\n",
            "My name is shagun singh and I am 19 years old.\n"
          ]
        }
      ]
    },
    {
      "cell_type": "code",
      "source": [
        "# 3. Write code to print all the pre-defined keywords in Python using the keyword library\n",
        "import keyword\n",
        "print(\"Predefined keywords in Python are:\")\n",
        "print(keyword.kwlist)\n",
        "\n"
      ],
      "metadata": {
        "colab": {
          "base_uri": "https://localhost:8080/"
        },
        "id": "tfVpanIjEeON",
        "outputId": "edb33d53-a7a3-4b46-99dd-f4dc44b6bc15"
      },
      "execution_count": 3,
      "outputs": [
        {
          "output_type": "stream",
          "name": "stdout",
          "text": [
            "Predefined keywords in Python are:\n",
            "['False', 'None', 'True', 'and', 'as', 'assert', 'async', 'await', 'break', 'class', 'continue', 'def', 'del', 'elif', 'else', 'except', 'finally', 'for', 'from', 'global', 'if', 'import', 'in', 'is', 'lambda', 'nonlocal', 'not', 'or', 'pass', 'raise', 'return', 'try', 'while', 'with', 'yield']\n"
          ]
        }
      ]
    },
    {
      "cell_type": "code",
      "source": [
        "# 4. Write a program that checks if a given word is a Python keyword\n",
        "import keyword\n",
        "print(\"***Remember python is case sensitive***\")\n",
        "\n",
        "word = input(\"Enter a word: \")\n",
        "if keyword.iskeyword(word):\n",
        "    print(f\"{word} is a Python keyword.\")\n",
        "else:\n",
        "    print(f\"{word} is not a Python keyword.\")"
      ],
      "metadata": {
        "colab": {
          "base_uri": "https://localhost:8080/"
        },
        "id": "6VqLlcYFFq4Q",
        "outputId": "d940d88c-d3f2-4b43-c042-e1ff4f2f1c48"
      },
      "execution_count": 6,
      "outputs": [
        {
          "output_type": "stream",
          "name": "stdout",
          "text": [
            "***Remeber python is case sensitive***\n",
            "Enter a word: True\n",
            "True is a Python keyword.\n"
          ]
        }
      ]
    },
    {
      "cell_type": "code",
      "source": [
        "# 5. Create a list and tuple in Python, and demonstrate how attempting to change an element works differently for each\n",
        "List1 = [1, 2, 3, 4, 5]\n",
        "List1[2] = 10\n",
        "print(List1)\n",
        "\n",
        "Tuple1 = (1, 2, 3, 4, 5)\n",
        "Tuple1[2] = 10  # THIS WILL SHOW ERROR BECAUSE TUPLE IS IMMUTABLE.\n",
        "print(Tuple1)"
      ],
      "metadata": {
        "colab": {
          "base_uri": "https://localhost:8080/"
        },
        "id": "9AnAF21ZGA5W",
        "outputId": "9c4f6bad-b278-48ec-e6f7-694e28ed4fd1"
      },
      "execution_count": 8,
      "outputs": [
        {
          "output_type": "stream",
          "name": "stdout",
          "text": [
            "[1, 2, 10, 4, 5]\n",
            "[1, 2, 10, 4, 5]\n",
            "(1, 2, 3, 4, 5)\n"
          ]
        }
      ]
    },
    {
      "cell_type": "code",
      "source": [
        "# 6. Write a function to demonstrate the behavior of mutable and immutable arguments\n",
        "def greet():\n",
        "    print(\"Hello, welcome to Python programming!\")\n",
        "greet() # Call the function\n"
      ],
      "metadata": {
        "colab": {
          "base_uri": "https://localhost:8080/"
        },
        "id": "9GZRb0DtHMr7",
        "outputId": "f238723d-7e3a-433f-c434-4fe6bcbcb96b"
      },
      "execution_count": 10,
      "outputs": [
        {
          "output_type": "stream",
          "name": "stdout",
          "text": [
            "Hello, welcome to Python programming!\n"
          ]
        }
      ]
    },
    {
      "cell_type": "code",
      "source": [
        "# 7. Write a function to demonstrate the behavior of mutable and immutable arguments\n",
        "def demonstrate_mutability():\n",
        "    # Immutable argument (integer)\n",
        "    num = 10\n",
        "\n",
        "    def change_immutable(num):\n",
        "        num += 5  # This creates a new variable, does not change the original\n",
        "        print(f\"Inside function, modified num: {num}\")\n",
        "\n",
        "    print(f\"Before calling function, num: {num}\")\n",
        "    change_immutable(num)\n",
        "    print(f\"After calling function, num: {num}\")  # num remains unchanged outside the function\n",
        "\n",
        "\n",
        "    # Mutable argument (list)\n",
        "    lst = [1, 2, 3]\n",
        "\n",
        "    def change_mutable(lst):\n",
        "        lst.append(4)  # Modifies the original list\n",
        "        print(f\"Inside function, modified list: {lst}\")\n",
        "\n",
        "    print(f\"Before calling function, list: {lst}\")\n",
        "    change_mutable(lst)\n",
        "    print(f\"After calling function, list: {lst}\")  # List is modified outside the function\n",
        "\n",
        "\n",
        "# Call the function\n",
        "demonstrate_mutability()\n"
      ],
      "metadata": {
        "colab": {
          "base_uri": "https://localhost:8080/"
        },
        "id": "Fr33Hn2DKBeS",
        "outputId": "6db99388-1276-484f-fd0e-d5359fef7059"
      },
      "execution_count": 11,
      "outputs": [
        {
          "output_type": "stream",
          "name": "stdout",
          "text": [
            "Before calling function, num: 10\n",
            "Inside function, modified num: 15\n",
            "After calling function, num: 10\n",
            "Before calling function, list: [1, 2, 3]\n",
            "Inside function, modified list: [1, 2, 3, 4]\n",
            "After calling function, list: [1, 2, 3, 4]\n"
          ]
        }
      ]
    },
    {
      "cell_type": "code",
      "source": [
        "# 8. Write a program to demonstrate the use of logical operators\n",
        "Name = str(input(\"Enter your name: \"))\n",
        "score = float(input(\"Enter your score: \"))\n",
        "if score >= 90:\n",
        "    print(f\"Grade: A, EXCELLENT!! {Name}\")\n",
        "elif score >= 80:\n",
        "    print(f\"Grade: B, GOOD JOB {Name}\")\n",
        "elif score >= 70:\n",
        "    print(\"Grade: C, PASSED\")\n",
        "elif score >= 60:\n",
        "    print(\"Grade: D, WORK HARDER\")\n",
        "else:\n",
        "    print(\"Grade E, BRING YOUR PARENTS TO THE PTM\")\n"
      ],
      "metadata": {
        "colab": {
          "base_uri": "https://localhost:8080/"
        },
        "id": "mvNMqyNAKlDJ",
        "outputId": "04cf9281-636f-4a8f-9fb8-cb55a55908c0"
      },
      "execution_count": 18,
      "outputs": [
        {
          "output_type": "stream",
          "name": "stdout",
          "text": [
            "Enter your name: xyz\n",
            "Enter your score: 20\n",
            "Grade E, BRING YOUR PARENTS TO THE PTM\n"
          ]
        }
      ]
    },
    {
      "cell_type": "code",
      "source": [
        "# 9. Write a Python program to convert user input from string to integer, float, and boolean types\n",
        "user_input = str(input(\"Enter a value: \"))\n",
        "print(\"User input:\", user_input)\n",
        "integer_value = int(user_input)\n",
        "float_value = float(user_input)\n",
        "boolean_value = bool(user_input)\n",
        "print(\"Integer value:\", integer_value)\n",
        "print(\"Float value:\", float_value)\n",
        "print(\"Boolean value:\", boolean_value)\n"
      ],
      "metadata": {
        "colab": {
          "base_uri": "https://localhost:8080/"
        },
        "id": "ax2TYnjdLvJX",
        "outputId": "0b3da77a-0165-4726-f3a3-01fb157ab517"
      },
      "execution_count": 29,
      "outputs": [
        {
          "output_type": "stream",
          "name": "stdout",
          "text": [
            "Enter a value: 4\n",
            "User input: 4\n",
            "Integer value: 4\n",
            "Float value: 4.0\n",
            "Boolean value: True\n"
          ]
        }
      ]
    },
    {
      "cell_type": "code",
      "source": [
        "# 10. Write code to demonstrate type casting with list elements\n",
        "list_1 = [1,2,3,4,5]\n",
        "int_list = int(list_1[0])\n",
        "float_list = float(list_1[0])\n",
        "str_list = str(list_1[0])\n",
        "print(int_list)\n",
        "print(float_list)\n",
        "print(str_list)"
      ],
      "metadata": {
        "colab": {
          "base_uri": "https://localhost:8080/"
        },
        "id": "RAmr8FsZNQHm",
        "outputId": "ba703d1a-631c-4f3b-90ba-57c8a3c9666c"
      },
      "execution_count": 30,
      "outputs": [
        {
          "output_type": "stream",
          "name": "stdout",
          "text": [
            "1\n",
            "1.0\n",
            "1\n"
          ]
        }
      ]
    },
    {
      "cell_type": "code",
      "source": [
        "# 11. Write a program that checks if a number is positive, negative, or zero\n",
        "num = float(input(\"Enter a number: \"))\n",
        "if num > 0:\n",
        "    print(\"The number is positive.\")\n",
        "elif num < 0:\n",
        "    print(\"The number is negative.\")\n",
        "else:\n",
        "    print(\"The number is zero.\")"
      ],
      "metadata": {
        "colab": {
          "base_uri": "https://localhost:8080/"
        },
        "id": "bFQCwhjIa4SV",
        "outputId": "9500b14b-fcc5-4601-aedb-61d0b9a2c615"
      },
      "execution_count": 1,
      "outputs": [
        {
          "output_type": "stream",
          "name": "stdout",
          "text": [
            "Enter a number: 7\n",
            "The number is positive.\n"
          ]
        }
      ]
    },
    {
      "cell_type": "code",
      "source": [
        "# 12. Write a for loop to print numbers from 1 to 100\n",
        "for i in range(1, 101):\n",
        "    print(i)"
      ],
      "metadata": {
        "colab": {
          "base_uri": "https://localhost:8080/"
        },
        "id": "gkxIEkZGvfkS",
        "outputId": "d6106d85-4d2b-4e92-d79b-dd8e59db96b0"
      },
      "execution_count": 2,
      "outputs": [
        {
          "output_type": "stream",
          "name": "stdout",
          "text": [
            "1\n",
            "2\n",
            "3\n",
            "4\n",
            "5\n",
            "6\n",
            "7\n",
            "8\n",
            "9\n",
            "10\n",
            "11\n",
            "12\n",
            "13\n",
            "14\n",
            "15\n",
            "16\n",
            "17\n",
            "18\n",
            "19\n",
            "20\n",
            "21\n",
            "22\n",
            "23\n",
            "24\n",
            "25\n",
            "26\n",
            "27\n",
            "28\n",
            "29\n",
            "30\n",
            "31\n",
            "32\n",
            "33\n",
            "34\n",
            "35\n",
            "36\n",
            "37\n",
            "38\n",
            "39\n",
            "40\n",
            "41\n",
            "42\n",
            "43\n",
            "44\n",
            "45\n",
            "46\n",
            "47\n",
            "48\n",
            "49\n",
            "50\n",
            "51\n",
            "52\n",
            "53\n",
            "54\n",
            "55\n",
            "56\n",
            "57\n",
            "58\n",
            "59\n",
            "60\n",
            "61\n",
            "62\n",
            "63\n",
            "64\n",
            "65\n",
            "66\n",
            "67\n",
            "68\n",
            "69\n",
            "70\n",
            "71\n",
            "72\n",
            "73\n",
            "74\n",
            "75\n",
            "76\n",
            "77\n",
            "78\n",
            "79\n",
            "80\n",
            "81\n",
            "82\n",
            "83\n",
            "84\n",
            "85\n",
            "86\n",
            "87\n",
            "88\n",
            "89\n",
            "90\n",
            "91\n",
            "92\n",
            "93\n",
            "94\n",
            "95\n",
            "96\n",
            "97\n",
            "98\n",
            "99\n",
            "100\n"
          ]
        }
      ]
    },
    {
      "cell_type": "code",
      "source": [
        "#13. Write a Python program to find the sum of all even numbers between 1 and 50\n",
        "sum = 0\n",
        "for i in range(1, 51):\n",
        "    if i % 2 == 0:\n",
        "        sum += i\n",
        "print(\"The sum of all even numbers between 1 and 50 is:\", sum)"
      ],
      "metadata": {
        "colab": {
          "base_uri": "https://localhost:8080/"
        },
        "id": "_W6QdP23vxyM",
        "outputId": "e82cbd05-6dea-4dae-8956-f573d59aa0a6"
      },
      "execution_count": 3,
      "outputs": [
        {
          "output_type": "stream",
          "name": "stdout",
          "text": [
            "The sum of all even numbers between 1 and 50 is: 650\n"
          ]
        }
      ]
    },
    {
      "cell_type": "code",
      "source": [
        "#14. Write a program to reverse a string using a while loop\n",
        "string = input(\"Enter a string: \")\n",
        "reversed_string = \"\"\n",
        "index = len(string) - 1\n",
        "while index >= 0:\n",
        "    reversed_string += string[index]\n",
        "    index -= 1\n",
        "print(\"The reversed string is:\", reversed_string)"
      ],
      "metadata": {
        "colab": {
          "base_uri": "https://localhost:8080/"
        },
        "id": "bdRVKUQFxgjo",
        "outputId": "80a731c8-6c50-4636-ad17-8fd48060ece0"
      },
      "execution_count": 6,
      "outputs": [
        {
          "output_type": "stream",
          "name": "stdout",
          "text": [
            "Enter a string: hanu\n",
            "The reversed string is: unah\n"
          ]
        }
      ]
    },
    {
      "cell_type": "code",
      "source": [
        "#15. Write a Python program to calculate the factorial of a number provided by the user using a while loop.\n",
        "num = int(input(\"Enter a number: \"))\n",
        "factorial = 1\n",
        "while num > 0:\n",
        "    factorial *= num\n",
        "    num -= 1\n",
        "print(\"The factorial of the number is:\", factorial)"
      ],
      "metadata": {
        "colab": {
          "base_uri": "https://localhost:8080/"
        },
        "id": "Zp0B7hNZyEnI",
        "outputId": "52482b9f-350f-4a1f-ca03-3e8d8c4e7841"
      },
      "execution_count": 8,
      "outputs": [
        {
          "output_type": "stream",
          "name": "stdout",
          "text": [
            "Enter a number: 5\n",
            "The factorial of the number is: 120\n"
          ]
        }
      ]
    },
    {
      "cell_type": "code",
      "source": [],
      "metadata": {
        "id": "9o-ZRhmayR6_"
      },
      "execution_count": null,
      "outputs": []
    }
  ]
}